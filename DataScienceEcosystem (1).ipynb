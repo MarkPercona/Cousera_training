{
 "cells": [
  {
   "cell_type": "markdown",
   "id": "77faf1a3-e994-4053-ba68-9e35ee8481ad",
   "metadata": {},
   "source": [
    "# Data Science Tools and Ecosystem"
   ]
  },
  {
   "cell_type": "markdown",
   "id": "f851786e-d1fb-4cbf-bee5-a0fdcfc9dde6",
   "metadata": {},
   "source": [
    "In this notebook, Data Science Tools and Ecosystem are summarized.\n"
   ]
  },
  {
   "cell_type": "markdown",
   "id": "a1b6f018-3153-4e76-a637-f590d89fecd2",
   "metadata": {
    "tags": []
   },
   "source": [
    " Some of the popular languages that Data Scientists use are:\n",
    "\n",
    "    1. Python\n",
    "    2. R\n",
    "    3. SQL\n",
    "    4. C++"
   ]
  },
  {
   "cell_type": "markdown",
   "id": "94a26415-c82d-4208-a7f1-716e26bdd207",
   "metadata": {},
   "source": [
    "Some of the commonly used libraries used by Data Scientists include:\n",
    "1. TensorFlow\n",
    "2. SciKit-Learn\n",
    "3. Matlab\n",
    "4. Pandas\n"
   ]
  },
  {
   "cell_type": "markdown",
   "id": "a56aa95c-0d8e-4d61-bfc8-126450604959",
   "metadata": {
    "jp-MarkdownHeadingCollapsed": true,
    "tags": []
   },
   "source": [
    "| Data Science Tools |\n",
    "|---|\n",
    "|Kafka|\n",
    "|Apache SparkSQL|\n",
    "|MongoDb|"
   ]
  },
  {
   "cell_type": "markdown",
   "id": "6c8d3a04-5c7b-4019-a821-40291af51b41",
   "metadata": {},
   "source": [
    "### Below are a few examples of evaluating arithmetic expressions in Python."
   ]
  },
  {
   "cell_type": "code",
   "execution_count": 5,
   "id": "edd74e0b-8a85-4110-98d9-8e4f87b04f25",
   "metadata": {
    "tags": []
   },
   "outputs": [
    {
     "data": {
      "text/plain": [
       "17"
      ]
     },
     "execution_count": 5,
     "metadata": {},
     "output_type": "execute_result"
    }
   ],
   "source": [
    "# This a simple arithmetic expression to mutiply then add integers \n",
    "(3*4)+5\n"
   ]
  },
  {
   "cell_type": "code",
   "execution_count": 6,
   "id": "06b4f8a1-9d70-4e32-8498-ea3a59f0002d",
   "metadata": {
    "tags": []
   },
   "outputs": [
    {
     "data": {
      "text/plain": [
       "3.3333333333333335"
      ]
     },
     "execution_count": 6,
     "metadata": {},
     "output_type": "execute_result"
    }
   ],
   "source": [
    "# This will convert 200 minutes to hours by diving by 60\n",
    "200/60"
   ]
  },
  {
   "cell_type": "markdown",
   "id": "0f4cfc2e-fad0-412b-b96e-675eed126874",
   "metadata": {},
   "source": [
    "In this notebook, Data Science Tools and Ecosystem are summarized.\n",
    "\n",
    "**Objectives**\n",
    "- SQL\n",
    "- C++\n",
    "- R"
   ]
  },
  {
   "cell_type": "markdown",
   "id": "c947e763-7516-431a-bad2-ad5d868753a4",
   "metadata": {},
   "source": [
    "## Author\n",
    "Mark Stephenson"
   ]
  },
  {
   "cell_type": "code",
   "execution_count": null,
   "id": "8b51da40-8a40-48f5-9241-71f3c709d784",
   "metadata": {},
   "outputs": [],
   "source": []
  }
 ],
 "metadata": {
  "kernelspec": {
   "display_name": "Python",
   "language": "python",
   "name": "conda-env-python-py"
  },
  "language_info": {
   "codemirror_mode": {
    "name": "ipython",
    "version": 3
   },
   "file_extension": ".py",
   "mimetype": "text/x-python",
   "name": "python",
   "nbconvert_exporter": "python",
   "pygments_lexer": "ipython3",
   "version": "3.7.12"
  }
 },
 "nbformat": 4,
 "nbformat_minor": 5
}
